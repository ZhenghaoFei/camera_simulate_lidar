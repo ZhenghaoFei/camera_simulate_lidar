{
 "cells": [
  {
   "cell_type": "code",
   "execution_count": 1,
   "metadata": {
    "collapsed": true
   },
   "outputs": [],
   "source": [
    "import tensorflow as tf\n",
    "import glob\n",
    "import os\n",
    "import numpy as np\n",
    "import matplotlib.pyplot as plt\n",
    "\n",
    "from os import listdir\n",
    "from os.path import isfile, join\n",
    "%matplotlib inline"
   ]
  },
  {
   "cell_type": "code",
   "execution_count": 12,
   "metadata": {
    "collapsed": false
   },
   "outputs": [],
   "source": [
    "def get_filename():\n",
    "    mypath = './data/data1/'\n",
    "    data_lidar = sorted(glob.glob(mypath + '*txt'), key=os.path.basename)\n",
    "    data_leftcamera = sorted(glob.glob(mypath + 'left*'), key=os.path.basename)\n",
    "    data_leftcamera = data_leftcamera[:len(data_lidar)]\n",
    "    data_rightcamera = sorted(glob.glob(mypath + 'right*'), key=os.path.basename)\n",
    "    data_rightcamera = data_rightcamera[:752]\n",
    "    print \"len lidar: \", len(data_lidar)\n",
    "    print \"len left: \", len(data_leftcamera)\n",
    "    print \"len right: \", len(data_rightcamera)\n",
    "    return [data_lidar, data_leftcamera, data_rightcamera]\n"
   ]
  },
  {
   "cell_type": "code",
   "execution_count": 13,
   "metadata": {
    "collapsed": true
   },
   "outputs": [],
   "source": [
    "# only get serial number\n",
    "def get_filenumber(mypath):\n",
    "#     mypath = './data/data1/'\n",
    "    data_lidar = sorted(glob.glob(mypath + '*txt'), key=os.path.basename)\n",
    "    file_numbers = []\n",
    "    for i in range(len(data_lidar)):\n",
    "        number = data_lidar[i]\n",
    "        number = number.replace(\"./data/data1/\",\"\")\n",
    "        number = number.replace(\".txt\",\"\")\n",
    "        file_numbers.append(number)\n",
    "    print \"number of sample: \", len(file_numbers)\n",
    "    return file_numbers\n"
   ]
  },
  {
   "cell_type": "code",
   "execution_count": 16,
   "metadata": {
    "collapsed": false
   },
   "outputs": [
    {
     "name": "stdout",
     "output_type": "stream",
     "text": [
      "len lidar:  752\n",
      "len left:  752\n",
      "len right:  752\n"
     ]
    }
   ],
   "source": [
    " data_lidar, data_leftcamera, data_rightcamera = get_filename()\n",
    "# data_lidar"
   ]
  },
  {
   "cell_type": "code",
   "execution_count": 17,
   "metadata": {
    "collapsed": false
   },
   "outputs": [
    {
     "name": "stdout",
     "output_type": "stream",
     "text": [
      "number of sample:  752\n"
     ]
    }
   ],
   "source": [
    "file_numbers = get_filenumber(mypath)"
   ]
  },
  {
   "cell_type": "code",
   "execution_count": 18,
   "metadata": {
    "collapsed": true
   },
   "outputs": [],
   "source": [
    "def read_my_file_format(file_numbers_queue):\n",
    "    # reconstruce filename for three source\n",
    "    left_image_filename_queue = []\n",
    "    left_image_filename_queue = []\n",
    "    lidar_filename_queue = []\n",
    "    for i in range(len(file_numbers_queue)):\n",
    "        left_image_filename = \"./data/data1/left\" + file_numbers_queue[i] + \".png\"\n",
    "        right_image_filename = \"./data/data1/left\" + file_numbers_queue[i] + \".png\"\n",
    "        lidar_filename = \"./data/data1/\" + file_numbers_queue[i] + \".txt\"\n",
    "        left_image_filename_queue.append(left_image_filename)\n",
    "        right_image_filename_queue.append(right_image_filename)\n",
    "        lidar_filename_queue.append(lidar_filename)\n",
    "        \n",
    "    # read and decode image    \n",
    "    reader = tf.WholeFileReader()\n",
    "    key_left, left_value = reader.read(left_image_filename_queue)\n",
    "    key_right, right_value = reader.read(right_image_filename_queue)\n",
    "    left_image = tf.image.decode_png(left_value)\n",
    "    right_image = tf.image.decode_png(right_value)\n",
    "\n",
    "    # read and decode lidar    \n",
    "    lidar_reader = tf.TextLineReader()\n",
    "    lidar_key, lidar_value = lidar_reader.read(lidar_filename_queue)\n",
    "    record_defaults = [[] for col in range(120)]\n",
    "    lidar_samples = tf.decode_csv(lidar_value, record_defaults=record_defaults)\n",
    "    lidar_label = tf.pack(lidar_samples)\n",
    "\n",
    "    return left_image, right_image, lidar_label"
   ]
  },
  {
   "cell_type": "code",
   "execution_count": 19,
   "metadata": {
    "collapsed": true
   },
   "outputs": [],
   "source": [
    "def input_pipeline(file_numbers, batch_size, read_threads=1, num_epochs=None):\n",
    "    file_numbers_queue = tf.train.string_input_producer(file_numbers, num_epochs=num_epochs, shuffle=False)\n",
    "    data_list = [read_my_file_format(file_numbers_queue)for _ in range(read_threads)]\n",
    "    # min_after_dequeue defines how big a buffer we will randomly sample\n",
    "    #   from -- bigger means better shuffling but slower start up and more\n",
    "    #   memory used.\n",
    "    # capacity must be larger than min_after_dequeue and the amount larger\n",
    "    #   determines the maximum we will prefetch.  Recommendation:\n",
    "    #   min_after_dequeue + (num_threads + a small safety margin) * batch_size\n",
    "    min_after_dequeue = 100\n",
    "    capacity = min_after_dequeue + 3 * batch_size\n",
    "    example_batch, label_batch = tf.train.shuffle_batch_join(\n",
    "      data_list, batch_size=batch_size, capacity=capacity,\n",
    "      min_after_dequeue=min_after_dequeue)\n",
    "    return example_batch, label_batch\n"
   ]
  },
  {
   "cell_type": "code",
   "execution_count": 20,
   "metadata": {
    "collapsed": false
   },
   "outputs": [],
   "source": [
    "def lidar_reader(filename):\n",
    "    lidar_np = np.loadtxt(filename)\n",
    "    lidar_tensor = tf.constant(lidar_np)\n",
    "    return lidar_tensor\n",
    "    "
   ]
  },
  {
   "cell_type": "code",
   "execution_count": 21,
   "metadata": {
    "collapsed": true
   },
   "outputs": [],
   "source": [
    "def lidar_decoder(lidar_string):\n",
    "    lidar_np = np.fromstring(lidar_string)\n",
    "    lidar_tensor = tf.constant(lidar_np)\n",
    "    return lidar_tensor"
   ]
  },
  {
   "cell_type": "code",
   "execution_count": 22,
   "metadata": {
    "collapsed": false
   },
   "outputs": [],
   "source": [
    "leftcamera_filename_queue = tf.train.string_input_producer(data_leftcamera)\n",
    "rightcamera_filename_queue = tf.train.string_input_producer(data_rightcamera)\n",
    "lidar_filename_queue = tf.train.string_input_producer(data_lidar)"
   ]
  },
  {
   "cell_type": "code",
   "execution_count": 23,
   "metadata": {
    "collapsed": true
   },
   "outputs": [],
   "source": [
    "# left camera reader\n",
    "leftcamera_reader = tf.WholeFileReader()\n",
    "leftcamera_file_name, leftcamera_file = leftcamera_reader.read(leftcamera_filename_queue)\n",
    "left_image = tf.image.decode_png(leftcamera_file)"
   ]
  },
  {
   "cell_type": "code",
   "execution_count": 24,
   "metadata": {
    "collapsed": false
   },
   "outputs": [],
   "source": [
    "# lidar reader\n",
    "# lidar_filename_queue = tf.train.string_input_producer(['a.txt','a.txt'])\n",
    "lidar_reader = tf.TextLineReader()\n",
    "lidar_key, lidar_value = lidar_reader.read(lidar_filename_queue)\n",
    "record_defaults = [[] for col in range(120)]\n",
    "lidar_samples = tf.decode_csv(lidar_value, record_defaults=record_defaults, field_delim=',')\n",
    "lidar_label = tf.pack(lidar_samples)"
   ]
  },
  {
   "cell_type": "code",
   "execution_count": 26,
   "metadata": {
    "collapsed": false
   },
   "outputs": [
    {
     "name": "stdout",
     "output_type": "stream",
     "text": [
      "(125, 672, 3)\n",
      "[        inf         inf         inf         inf  4.35874987  1.55550003\n",
      "  1.46375     1.38325     1.32149994  1.33599997  1.33724999  1.34249997\n",
      "         inf  1.34975004  1.36000001  1.37374997  1.38425004  1.39950001\n",
      "  1.40499997  1.40925002  1.43149996  1.43900001  1.45124996  1.46325004\n",
      "  1.47625005  1.50524998  1.49874997  1.45725     1.41824996  1.39075005\n",
      "  1.33624995  1.32075     1.30550003  0.65125            inf  0.63599998\n",
      "         inf  0.65700001  1.09350002  1.09650004  1.08274996  1.07249999\n",
      "  1.07099998  1.02324998  1.01075006  1.00174999         inf  0.977\n",
      "  0.95950001  0.94875002  0.93699998  0.92799997  0.90974998  0.9005\n",
      "  0.89174998  0.88475001  0.87575001  0.86650002  0.85525     0.847\n",
      "  0.84200001  0.83700001  0.83050001  0.82099998  0.81575     0.81124997\n",
      "  0.80725002  0.79900002  0.79400003  0.79175001  0.78874999  0.82099998\n",
      "  0.82475001  0.82024997  0.81800002  0.81475002  0.80900002  0.80675\n",
      "  0.80675     0.80374998  0.801       0.79799998  0.79874998         inf\n",
      "  0.57625002  0.59799999  0.58050001  0.58125001  0.58225     0.58275002\n",
      "  0.583       0.59574997  0.59100002  0.59399998  0.59625     0.60075003\n",
      "         inf         inf         inf         inf         inf         inf\n",
      "         inf         inf         inf         inf         inf         inf\n",
      "         inf         inf         inf         inf         inf         inf\n",
      "         inf         inf         inf         inf         inf         inf]\n"
     ]
    },
    {
     "data": {
      "image/png": "[encoded data removed]",
      "text/plain": [
       "<matplotlib.figure.Figure at 0x7f8ad0592610>"
      ]
     },
     "metadata": {},
     "output_type": "display_data"
    }
   ],
   "source": [
    "# Start a new session to show example output.\n",
    "with tf.Session() as sess:\n",
    "    # Required to get the filename matching to run.\n",
    "    tf.initialize_all_variables().run()\n",
    "\n",
    "    # Coordinate the loading of image files.\n",
    "    coord = tf.train.Coordinator()\n",
    "    threads = tf.train.start_queue_runners(coord=coord)\n",
    "    \n",
    "\n",
    "#     # Get an image tensor and print its value.\n",
    "    image_tensor = sess.run(left_image) # read single image\n",
    "    print image_tensor.shape\n",
    "    plt.imshow(image_tensor)\n",
    "\n",
    "    # Get lidar info\n",
    "    lidar_value = sess.run(lidar_label)\n",
    "#     lidar_np = np.fromstring(lidar_string, sep='\\n')\n",
    "    print(lidar_label.eval())\n",
    "    # Finish off the filename queue coordinator.\n",
    "    coord.request_stop()\n",
    "    coord.join(threads)"
   ]
  },
  {
   "cell_type": "code",
   "execution_count": null,
   "metadata": {
    "collapsed": false
   },
   "outputs": [],
   "source": []
  },
  {
   "cell_type": "code",
   "execution_count": null,
   "metadata": {
    "collapsed": true
   },
   "outputs": [],
   "source": []
  }
 ],
 "metadata": {
  "anaconda-cloud": {},
  "kernelspec": {
   "display_name": "Python [conda env:tensorflow]",
   "language": "python",
   "name": "conda-env-tensorflow-py"
  },
  "language_info": {
   "codemirror_mode": {
    "name": "ipython",
    "version": 2
   },
   "file_extension": ".py",
   "mimetype": "text/x-python",
   "name": "python",
   "nbconvert_exporter": "python",
   "pygments_lexer": "ipython2",
   "version": "2.7.12"
  }
 },
 "nbformat": 4,
 "nbformat_minor": 1
}
