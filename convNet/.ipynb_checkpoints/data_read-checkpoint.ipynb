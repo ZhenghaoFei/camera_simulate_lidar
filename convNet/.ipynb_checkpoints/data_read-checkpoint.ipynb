{
 "cells": [
  {
   "cell_type": "code",
   "execution_count": 1,
   "metadata": {
    "collapsed": true
   },
   "outputs": [],
   "source": [
    "import tensorflow as tf\n",
    "import glob\n",
    "import os\n",
    "import numpy as np\n",
    "import matplotlib.pyplot as plt\n",
    "\n",
    "from os import listdir\n",
    "from os.path import isfile, join\n",
    "%matplotlib inline"
   ]
  },
  {
   "cell_type": "code",
   "execution_count": 2,
   "metadata": {
    "collapsed": false
   },
   "outputs": [],
   "source": [
    "\n",
    "def get_filename_queue(file_numbers, data_dir):\n",
    "    # reconstruce filename for three source\n",
    "    left_image_filename_list = []\n",
    "    right_image_filename_list = []\n",
    "    lidar_filename_list = []\n",
    "\n",
    "    for i in range(len(file_numbers)):\n",
    "        left_image_filename = data_dir +  file_numbers[i] + \"left.png\"\n",
    "        right_image_filename = data_dir +  file_numbers[i] + \"right.png\"\n",
    "        lidar_filename = data_dir + file_numbers[i] + \".txt\"\n",
    "        left_image_filename_list.append(left_image_filename)\n",
    "        right_image_filename_list.append(right_image_filename)\n",
    "        lidar_filename_list.append(lidar_filename)\n",
    "\n",
    "    # list to tensor queue\n",
    "    left_image_filename_queue = tf.train.string_input_producer(left_image_filename_list)\n",
    "    right_image_filename_queue = tf.train.string_input_producer(right_image_filename_list)\n",
    "    lidar_filename_queue = tf.train.string_input_producer(lidar_filename_list)\n",
    "\n",
    "    return [left_image_filename_queue, right_image_filename_queue, lidar_filename_queue]\n"
   ]
  },
  {
   "cell_type": "code",
   "execution_count": 3,
   "metadata": {
    "collapsed": true
   },
   "outputs": [],
   "source": [
    "# only get serial number\n",
    "def get_filenumber(mypath):\n",
    "    data_lidar = sorted(glob.glob(mypath + '*txt'), key=os.path.basename)\n",
    "    file_numbers = []\n",
    "    for i in range(len(data_lidar)):\n",
    "        number = data_lidar[i]\n",
    "        number = number.replace(\"./data/data1/\",\"\")\n",
    "        number = number.replace(\".txt\",\"\")\n",
    "        file_numbers.append(number)\n",
    "    print \"number of sample: \", len(file_numbers)\n",
    "    return file_numbers\n"
   ]
  },
  {
   "cell_type": "code",
   "execution_count": 4,
   "metadata": {
    "collapsed": false
   },
   "outputs": [
    {
     "name": "stdout",
     "output_type": "stream",
     "text": [
      "len lidar:  752\n",
      "len left:  752\n",
      "len right:  752\n"
     ]
    }
   ],
   "source": [
    " data_lidar, data_leftcamera, data_rightcamera = get_filename()\n",
    "# data_lidar"
   ]
  },
  {
   "cell_type": "code",
   "execution_count": 5,
   "metadata": {
    "collapsed": false
   },
   "outputs": [
    {
     "name": "stdout",
     "output_type": "stream",
     "text": [
      "number of sample:  752\n"
     ]
    }
   ],
   "source": [
    "mypath = './data/data1/'\n",
    "\n",
    "file_numbers = get_filenumber(mypath)"
   ]
  },
  {
   "cell_type": "code",
   "execution_count": 6,
   "metadata": {
    "collapsed": true
   },
   "outputs": [],
   "source": [
    "def read_my_file_format(file_numbers_queue):\n",
    "    # reconstruce filename for three source\n",
    "    left_image_filename_queue = []\n",
    "    left_image_filename_queue = []\n",
    "    lidar_filename_queue = []\n",
    "    for i in range(len(file_numbers_queue)):\n",
    "        left_image_filename = \"./data/data1/left\" + file_numbers_queue[i] + \".png\"\n",
    "        right_image_filename = \"./data/data1/left\" + file_numbers_queue[i] + \".png\"\n",
    "        lidar_filename = \"./data/data1/\" + file_numbers_queue[i] + \".txt\"\n",
    "        left_image_filename_queue.append(left_image_filename)\n",
    "        right_image_filename_queue.append(right_image_filename)\n",
    "        lidar_filename_queue.append(lidar_filename)\n",
    "        \n",
    "    # read and decode image    \n",
    "    reader = tf.WholeFileReader()\n",
    "    key_left, left_value = reader.read(left_image_filename_queue)\n",
    "    key_right, right_value = reader.read(right_image_filename_queue)\n",
    "    left_image = tf.image.decode_png(left_value)\n",
    "    right_image = tf.image.decode_png(right_value)\n",
    "\n",
    "    # read and decode lidar    \n",
    "    lidar_reader = tf.TextLineReader()\n",
    "    lidar_key, lidar_value = lidar_reader.read(lidar_filename_queue)\n",
    "    record_defaults = [[] for col in range(120)]\n",
    "    lidar_samples = tf.decode_csv(lidar_value, record_defaults=record_defaults)\n",
    "    lidar_label = tf.pack(lidar_samples)\n",
    "\n",
    "    return left_image, right_image, lidar_label"
   ]
  },
  {
   "cell_type": "code",
   "execution_count": 7,
   "metadata": {
    "collapsed": true
   },
   "outputs": [],
   "source": [
    "def input_pipeline(file_numbers, batch_size, read_threads=1, num_epochs=None):\n",
    "    file_numbers_queue = tf.train.string_input_producer(file_numbers, num_epochs=num_epochs, shuffle=False)\n",
    "    data_list = [read_my_file_format(file_numbers_queue)for _ in range(read_threads)]\n",
    "    # min_after_dequeue defines how big a buffer we will randomly sample\n",
    "    #   from -- bigger means better shuffling but slower start up and more\n",
    "    #   memory used.\n",
    "    # capacity must be larger than min_after_dequeue and the amount larger\n",
    "    #   determines the maximum we will prefetch.  Recommendation:\n",
    "    #   min_after_dequeue + (num_threads + a small safety margin) * batch_size\n",
    "    min_after_dequeue = 100\n",
    "    capacity = min_after_dequeue + 3 * batch_size\n",
    "    example_batch, label_batch = tf.train.shuffle_batch_join(\n",
    "      data_list, batch_size=batch_size, capacity=capacity,\n",
    "      min_after_dequeue=min_after_dequeue)\n",
    "    return example_batch, label_batch\n"
   ]
  },
  {
   "cell_type": "code",
   "execution_count": 8,
   "metadata": {
    "collapsed": false
   },
   "outputs": [],
   "source": [
    "def lidar_reader(filename):\n",
    "    lidar_np = np.loadtxt(filename)\n",
    "    lidar_tensor = tf.constant(lidar_np)\n",
    "    return lidar_tensor\n",
    "    "
   ]
  },
  {
   "cell_type": "code",
   "execution_count": 9,
   "metadata": {
    "collapsed": true
   },
   "outputs": [],
   "source": [
    "def lidar_decoder(lidar_string):\n",
    "    lidar_np = np.fromstring(lidar_string)\n",
    "    lidar_tensor = tf.constant(lidar_np)\n",
    "    return lidar_tensor"
   ]
  },
  {
   "cell_type": "code",
   "execution_count": 10,
   "metadata": {
    "collapsed": false
   },
   "outputs": [],
   "source": [
    "leftcamera_filename_queue = tf.train.string_input_producer(data_leftcamera)\n",
    "rightcamera_filename_queue = tf.train.string_input_producer(data_rightcamera)\n",
    "lidar_filename_queue = tf.train.string_input_producer(data_lidar)"
   ]
  },
  {
   "cell_type": "code",
   "execution_count": 11,
   "metadata": {
    "collapsed": true
   },
   "outputs": [],
   "source": [
    "# left camera reader\n",
    "leftcamera_reader = tf.WholeFileReader()\n",
    "leftcamera_file_name, leftcamera_file = leftcamera_reader.read(leftcamera_filename_queue)\n",
    "left_image = tf.image.decode_png(leftcamera_file)"
   ]
  },
  {
   "cell_type": "code",
   "execution_count": 12,
   "metadata": {
    "collapsed": false
   },
   "outputs": [],
   "source": [
    "# lidar reader\n",
    "# lidar_filename_queue = tf.train.string_input_producer(['a.txt','a.txt'])\n",
    "lidar_reader = tf.TextLineReader()\n",
    "lidar_key, lidar_value = lidar_reader.read(lidar_filename_queue)\n",
    "record_defaults = [[] for col in range(120)]\n",
    "lidar_samples = tf.decode_csv(lidar_value, record_defaults=record_defaults, field_delim=',')\n",
    "lidar_label = tf.pack(lidar_samples)"
   ]
  },
  {
   "cell_type": "code",
   "execution_count": 13,
   "metadata": {
    "collapsed": false
   },
   "outputs": [
    {
     "name": "stdout",
     "output_type": "stream",
     "text": [
      "(125, 672, 3)\n",
      "[        inf         inf         inf         inf  4.35774994  1.55649996\n",
      "  1.46924996  1.38824999  1.32424998  1.33525002  1.33700001  1.34249997\n",
      "  1.36574996  1.35025001         inf  1.375       1.38374996  1.39974999\n",
      "  1.40550005  1.42275     1.43124998  1.43900001  1.45124996  1.46325004\n",
      "  1.47599995  1.50450003  1.50600004  1.46274996  1.42400002  0.67049998\n",
      "         inf  1.31725001  1.30550003         inf  0.61849999         inf\n",
      "         inf  1.15474999  1.09000003  1.09675002  1.08299994  1.07225001\n",
      "  1.07149994  1.01999998  1.01100004  1.00425005  0.98049998  0.977\n",
      "  0.96025002  0.95025003  0.94150001  0.92199999  0.91149998  0.90149999\n",
      "  0.89450002  0.88499999  0.87024999  0.86374998  0.85600001  0.84850001\n",
      "  0.84350002  0.83174998  0.82599998  0.82349998  0.8175      0.80849999\n",
      "  0.80524999  0.79974997  0.79525     0.79325002  0.8075      0.82950002\n",
      "  0.82525003  0.8215      0.81924999  0.81274998  0.81        0.8075\n",
      "  0.80599999  0.80075002  0.80150002  0.79949999  0.79825002  0.58450001\n",
      "  0.57574999  0.58025002  0.57975     0.58074999  0.58099997  0.58025002\n",
      "  0.59450001  0.59074998  0.59200001  0.59625            inf         inf\n",
      "         inf         inf         inf         inf         inf         inf\n",
      "         inf         inf         inf         inf         inf         inf\n",
      "         inf         inf         inf         inf         inf         inf\n",
      "         inf         inf         inf         inf  0.70125002         inf]\n"
     ]
    },
    {
     "data": {
      "image/png": "[encoded data removed]",
      "text/plain": [
       "<matplotlib.figure.Figure at 0x7f950eef2dd0>"
      ]
     },
     "metadata": {},
     "output_type": "display_data"
    }
   ],
   "source": [
    "# Start a new session to show example output.\n",
    "with tf.Session() as sess:\n",
    "    # Required to get the filename matching to run.\n",
    "    tf.initialize_all_variables().run()\n",
    "\n",
    "    # Coordinate the loading of image files.\n",
    "    coord = tf.train.Coordinator()\n",
    "    threads = tf.train.start_queue_runners(coord=coord)\n",
    "    \n",
    "\n",
    "#     # Get an image tensor and print its value.\n",
    "    image_tensor = sess.run(left_image) # read single image\n",
    "    print image_tensor.shape\n",
    "    plt.imshow(image_tensor)\n",
    "\n",
    "    # Get lidar info\n",
    "    lidar_value = sess.run(lidar_label)\n",
    "#     lidar_np = np.fromstring(lidar_string, sep='\\n')\n",
    "    print(lidar_label.eval())\n",
    "    # Finish off the filename queue coordinator.\n",
    "    coord.request_stop()\n",
    "    coord.join(threads)"
   ]
  },
  {
   "cell_type": "code",
   "execution_count": null,
   "metadata": {
    "collapsed": false
   },
   "outputs": [],
   "source": []
  },
  {
   "cell_type": "code",
   "execution_count": null,
   "metadata": {
    "collapsed": true
   },
   "outputs": [],
   "source": []
  }
 ],
 "metadata": {
  "anaconda-cloud": {},
  "kernelspec": {
   "display_name": "Python [conda env:tensorflow]",
   "language": "python",
   "name": "conda-env-tensorflow-py"
  },
  "language_info": {
   "codemirror_mode": {
    "name": "ipython",
    "version": 2
   },
   "file_extension": ".py",
   "mimetype": "text/x-python",
   "name": "python",
   "nbconvert_exporter": "python",
   "pygments_lexer": "ipython2",
   "version": "2.7.12"
  }
 },
 "nbformat": 4,
 "nbformat_minor": 1
}
